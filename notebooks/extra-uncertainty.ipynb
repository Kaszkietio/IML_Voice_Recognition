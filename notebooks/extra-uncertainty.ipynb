{
 "cells": [
  {
   "cell_type": "markdown",
   "metadata": {},
   "source": [
    "# Extra task: uncertainty\n",
    "Use Monte Carlo Dropout to estimate classification confidence. \n",
    "Compare dropout to an ensemble of CNN networks (e.g.: do individual dropout subnetworks point to the same, or different local minima?)\n",
    "\n",
    "Great article to get familiar with the topic: [link](https://medium.com/@ciaranbench/monte-carlo-dropout-a-practical-guide-4b4dc18014b5)."
   ]
  },
  {
   "cell_type": "code",
   "execution_count": 1,
   "metadata": {},
   "outputs": [
    {
     "name": "stderr",
     "output_type": "stream",
     "text": [
      "2025-01-08 12:51:47.458270: I tensorflow/core/util/port.cc:153] oneDNN custom operations are on. You may see slightly different numerical results due to floating-point round-off errors from different computation orders. To turn them off, set the environment variable `TF_ENABLE_ONEDNN_OPTS=0`.\n",
      "2025-01-08 12:51:47.716018: E external/local_xla/xla/stream_executor/cuda/cuda_fft.cc:477] Unable to register cuFFT factory: Attempting to register factory for plugin cuFFT when one has already been registered\n",
      "WARNING: All log messages before absl::InitializeLog() is called are written to STDERR\n",
      "E0000 00:00:1736337107.822746    1516 cuda_dnn.cc:8310] Unable to register cuDNN factory: Attempting to register factory for plugin cuDNN when one has already been registered\n",
      "E0000 00:00:1736337107.851103    1516 cuda_blas.cc:1418] Unable to register cuBLAS factory: Attempting to register factory for plugin cuBLAS when one has already been registered\n",
      "2025-01-08 12:51:48.103526: I tensorflow/core/platform/cpu_feature_guard.cc:210] This TensorFlow binary is optimized to use available CPU instructions in performance-critical operations.\n",
      "To enable the following instructions: AVX2 AVX512F AVX512_VNNI FMA, in other operations, rebuild TensorFlow with the appropriate compiler flags.\n"
     ]
    }
   ],
   "source": [
    "import os\n",
    "\n",
    "os.environ[\"KERAS_BACKEND\"] = \"tensorflow\"\n",
    "os.environ[\"XLA_PYTHON_CLIENT_PREALLOCATE\"] = \"false\"\n",
    "\n",
    "import matplotlib.pyplot as plt\n",
    "from keras.api.utils import image_dataset_from_directory\n",
    "import numpy as np\n",
    "import tensorflow as tf\n",
    "import keras\n",
    "from keras.api.optimizers import SGD\n",
    "from keras.api.callbacks import EarlyStopping, TensorBoard\n",
    "from keras.api.optimizers.schedules import ExponentialDecay\n",
    "from keras.api.losses import CategoricalCrossentropy\n",
    "from keras.api.metrics import CategoricalAccuracy\n",
    "\n",
    "DATA_PATH = os.path.join(os.getcwd(), \"..\", \"data\")\n",
    "MODEL_PATH = os.path.join(os.getcwd(), \"..\", \"models\")\n",
    "LOG_DIR = os.path.join(os.getcwd(), \"..\", \"logs\")"
   ]
  },
  {
   "cell_type": "code",
   "execution_count": 2,
   "metadata": {},
   "outputs": [
    {
     "name": "stdout",
     "output_type": "stream",
     "text": [
      "Found 6798 files belonging to 30 classes.\n"
     ]
    },
    {
     "name": "stderr",
     "output_type": "stream",
     "text": [
      "I0000 00:00:1736337111.974011    1516 gpu_device.cc:2022] Created device /job:localhost/replica:0/task:0/device:GPU:0 with 3586 MB memory:  -> device: 0, name: NVIDIA GeForce RTX 3060 Laptop GPU, pci bus id: 0000:01:00.0, compute capability: 8.6\n"
     ]
    }
   ],
   "source": [
    "dataset_path = os.path.join(DATA_PATH, \"kaggle-speech-recognition\")\n",
    "batch_size = 128\n",
    "class_names = next(os.walk(os.path.join(dataset_path, \"train\")))[1]\n",
    "class_dict = dict(zip(class_names, range(len(class_names))))\n",
    "\n",
    "# ds_train: tf.data.Dataset = image_dataset_from_directory(os.path.join(dataset_path, \"train\"), color_mode=\"grayscale\",\n",
    "#                                         label_mode=\"categorical\", batch_size=batch_size, class_names=class_names,\n",
    "#                                         seed=42, validation_split=0.0)\n",
    "ds_valid: tf.data.Dataset  = image_dataset_from_directory(os.path.join(dataset_path, \"validation\"), color_mode=\"grayscale\",\n",
    "                                        label_mode=\"categorical\", batch_size=batch_size, class_names=class_names,\n",
    "                                        seed=42, validation_split=0.0)\n",
    "\n",
    "# ds_train = ds_train.prefetch(tf.data.AUTOTUNE)\n",
    "ds_valid = ds_valid.prefetch(tf.data.AUTOTUNE)"
   ]
  },
  {
   "cell_type": "markdown",
   "metadata": {},
   "source": [
    "The architecture of the model is AlexNet, since by convention it has dropout layers in the dense tail. Therefore it fits nicely with out goal here."
   ]
  },
  {
   "cell_type": "code",
   "execution_count": 3,
   "metadata": {},
   "outputs": [],
   "source": [
    "def model(\n",
    "        normalization_layer = None,\n",
    "        dropout_rate = 0.5,\n",
    "        input_shape = (256, 256),\n",
    "        batch_size = 128\n",
    "):\n",
    "    inputs = keras.layers.Input(shape=input_shape, batch_size=batch_size)\n",
    "\n",
    "    # Preprocessing\n",
    "    x = keras.layers.Reshape((*input_shape, 1))(inputs)\n",
    "    if normalization_layer is not None:\n",
    "        x = normalization_layer(x)\n",
    "    x = keras.layers.RandomCrop(height=227, width=227)(x)\n",
    "\n",
    "    # Convolutional layers\n",
    "    # Instead of 11x11 stride 4 we are going to use subsequent 3x3 layers\n",
    "    x = keras.layers.Conv2D(128, kernel_size=(3, 3), strides=2)(x)\n",
    "    x = keras.layers.Conv2D(128, kernel_size=(3, 3), strides=2)(x)\n",
    "    x = keras.layers.Conv2D(128, kernel_size=(3, 3))(x)\n",
    "    x = keras.layers.BatchNormalization()(x)\n",
    "    x = keras.layers.ReLU()(x)\n",
    "    x = keras.layers.MaxPool2D((3, 3), strides=(2, 2))(x)\n",
    "\n",
    "    x = keras.layers.Conv2D(128, kernel_size=(3, 3))(x)\n",
    "    x = keras.layers.BatchNormalization()(x)\n",
    "    x = keras.layers.ReLU()(x)\n",
    "    x = keras.layers.MaxPool2D((3, 3), strides=(2, 2))(x)\n",
    "\n",
    "    x = keras.layers.Conv2D(256, kernel_size=(2, 2), strides=2)(x)\n",
    "    x = keras.layers.BatchNormalization()(x)\n",
    "    x = keras.layers.ReLU()(x)\n",
    "    x = keras.layers.Conv2D(256, kernel_size=(2, 2))(x)\n",
    "    x = keras.layers.BatchNormalization()(x)\n",
    "    x = keras.layers.ReLU()(x)\n",
    "    x = keras.layers.MaxPool2D((2, 2), strides=(2, 2))(x)\n",
    "\n",
    "\n",
    "    # Dense tail\n",
    "    x = keras.layers.Flatten(\"channels_last\")(x)\n",
    "    x = keras.layers.Dense(256, activation=\"relu\")(x)\n",
    "    x = keras.layers.Dropout(rate=dropout_rate)(x)\n",
    "    x = keras.layers.Dense(256, activation=\"relu\")(x)\n",
    "    x = keras.layers.Dropout(rate=dropout_rate)(x)\n",
    "    outputs = keras.layers.Dense(30, activation=\"softmax\")(x)\n",
    "\n",
    "    return keras.Model(inputs=inputs, outputs=outputs, name=\"MyAlexNet\")"
   ]
  },
  {
   "cell_type": "code",
   "execution_count": 4,
   "metadata": {},
   "outputs": [],
   "source": [
    "# normalization_layer = keras.layers.Normalization(axis=-1)\n",
    "# feature_ds = ds_train.map(lambda x, y: x)\n",
    "# normalization_layer.adapt(feature_ds)\n",
    "# ensembles = [model(normalization_layer) for _ in range(5)]"
   ]
  },
  {
   "cell_type": "code",
   "execution_count": 5,
   "metadata": {},
   "outputs": [],
   "source": [
    "ensembles = [keras.models.load_model(f\"../models/ensembles/MyAlexNet_{i}.keras\") for i in range(5)]"
   ]
  },
  {
   "cell_type": "code",
   "execution_count": 6,
   "metadata": {},
   "outputs": [],
   "source": [
    "def multiclass_calibration_curve(probs: np.ndarray, labels: np.ndarray, bins: int):\n",
    "    edges = np.linspace(0.0, 1.0, bins + 1, dtype=np.float32)\n",
    "\n",
    "    midpoints = []\n",
    "    accuracies = []\n",
    "    mean_confidences = []\n",
    "\n",
    "    for i in range(bins):\n",
    "        start = edges[i]\n",
    "        end = edges[i + 1]\n",
    "        midpoint = (start + end) / 2\n",
    "\n",
    "        mask = (probs >= start) & (probs < end)\n",
    "        count = mask.sum()\n",
    "        accuracy = labels[mask].sum() / count\n",
    "        mean_confidence = probs[mask].mean()\n",
    "\n",
    "        midpoints.append(midpoint)\n",
    "        accuracies.append(accuracy)\n",
    "        mean_confidences.append(mean_confidence)\n",
    "\n",
    "    return midpoints, accuracies, mean_confidences\n",
    "\n",
    "\n",
    "def plot_multiclass_calibration_curve(probs, labels, bins=10, title=None):\n",
    "    if title is None:\n",
    "        title = \"Reliability diagram\"\n",
    "\n",
    "    midpoints, accuracies, mean_confidences = multiclass_calibration_curve(probs, labels, bins=bins)\n",
    "    plt.bar(midpoints, accuracies, width=1.0/float(bins), align='center', lw=1, ec='#000000', fc='#2233aa', alpha=1, label='Model', zorder=0)\n",
    "    plt.scatter(midpoints, accuracies, lw=2, ec='black', fc=\"#ffffff\", zorder=2)\n",
    "    plt.plot(np.linspace(0, 1.0, 20), np.linspace(0, 1.0, 20), '--', lw=2, alpha=.7, color='gray', label='Perfectly calibrated', zorder=1)\n",
    "    plt.xlim(0.0, 1.05)\n",
    "    plt.ylim(0.0, 1.05)\n",
    "    plt.xlabel('\\nconfidence')\n",
    "    plt.ylabel('accuracy\\n')\n",
    "    plt.title(title+'\\n')\n",
    "    plt.xticks(midpoints, rotation=-45)\n",
    "    plt.legend(loc='upper left')\n",
    "    return midpoints, accuracies, mean_confidences"
   ]
  },
  {
   "cell_type": "code",
   "execution_count": 7,
   "metadata": {},
   "outputs": [],
   "source": [
    "def train(model: keras.Model, ds_train: tf.data.Dataset, ds_valid: tf.data.Dataset, ensemble_id: int):\n",
    "    lr_scheduler = ExponentialDecay(0.01, decay_steps=10_000, decay_rate=0.9)\n",
    "    optimizer = SGD(learning_rate=lr_scheduler, momentum=0.9)\n",
    "    loss = CategoricalCrossentropy()\n",
    "    model.compile(optimizer=optimizer, loss=loss,\n",
    "                  metrics=[CategoricalAccuracy(name=\"categorical_accuracy\")])\n",
    "\n",
    "    early_stopping = EarlyStopping(patience=15, restore_best_weights=True, start_from_epoch=5)\n",
    "    log_dir = os.path.join(LOG_DIR, \"kaggle-speech-recognition\", model.name)\n",
    "    model_log_dir = os.path.join(log_dir, f\"ensemble_{ensemble_id}\")\n",
    "    tensorboard_cb = TensorBoard(log_dir=model_log_dir, histogram_freq=1)\n",
    "    model.fit(ds_train, validation_data=ds_valid, epochs=35, verbose=0,\n",
    "              callbacks=[early_stopping, tensorboard_cb])\n",
    "    return model\n",
    "\n",
    "\n",
    "def training_models(ensembles, ds_train, ds_valid):\n",
    "    os.makedirs(\"../models/ensembles\", exist_ok=True)\n",
    "\n",
    "    for i, model in enumerate(ensembles):\n",
    "        print(\"Training ensemble num\", i)\n",
    "        model = train(model, ds_train, ds_valid, i)\n",
    "        model.save(f\"../models/ensembles/{model.name}_{i}.keras\")"
   ]
  },
  {
   "cell_type": "code",
   "execution_count": 8,
   "metadata": {},
   "outputs": [
    {
     "name": "stderr",
     "output_type": "stream",
     "text": [
      "I0000 00:00:1736337125.528485    1516 cuda_dnn.cc:529] Loaded cuDNN version 90300\n",
      "2025-01-08 12:53:34.434604: I tensorflow/core/framework/local_rendezvous.cc:405] Local rendezvous is aborting with status: OUT_OF_RANGE: End of sequence\n"
     ]
    }
   ],
   "source": [
    "def predict_mc_dropout(model: keras.Model, x: np.ndarray, sample=20):\n",
    "    y_hat_arr = []\n",
    "    for _ in range(sample):\n",
    "        y_hat = model(x, training=True).numpy()\n",
    "        y_hat_arr.append(y_hat)\n",
    "\n",
    "    y_hat_arr = np.stack(y_hat_arr, axis=0)\n",
    "    y_probs = tf.reduce_mean(y_hat_arr, axis=0).numpy()\n",
    "\n",
    "    return y_probs\n",
    "\n",
    "Y_probs = []\n",
    "Y = []\n",
    "for x, y in ds_valid:\n",
    "    y_probs = predict_mc_dropout(ensembles[0], x)\n",
    "    Y_probs.append(np.array(y_probs))\n",
    "    Y.append(y)\n",
    "\n",
    "Y_probs = np.concatenate(Y_probs, axis=0)\n",
    "Y = np.concatenate(Y, axis=0)"
   ]
  },
  {
   "cell_type": "code",
   "execution_count": 10,
   "metadata": {},
   "outputs": [
    {
     "data": {
      "image/png": "[encoded data removed]",
      "text/plain": [
       "<Figure size 640x480 with 1 Axes>"
      ]
     },
     "metadata": {},
     "output_type": "display_data"
    }
   ],
   "source": [
    "_ = plot_multiclass_calibration_curve(Y_probs, Y, title=\"MCD reliability diagram\")"
   ]
  },
  {
   "cell_type": "code",
   "execution_count": 11,
   "metadata": {},
   "outputs": [
    {
     "name": "stderr",
     "output_type": "stream",
     "text": [
      "2025-01-08 12:55:14.770444: I tensorflow/core/framework/local_rendezvous.cc:405] Local rendezvous is aborting with status: OUT_OF_RANGE: End of sequence\n"
     ]
    }
   ],
   "source": [
    "def predict_ensembles(ensembles: list[keras.Model], x: np.ndarray):\n",
    "    y_hat_arr = []\n",
    "    for model in ensembles:\n",
    "        y_hat = model(x, training=False).numpy()\n",
    "        y_hat_arr.append(y_hat)\n",
    "\n",
    "    y_hat_arr = np.stack(y_hat_arr, axis=0)\n",
    "    y_probs = tf.reduce_mean(y_hat_arr, axis=0).numpy()\n",
    "\n",
    "    return y_probs\n",
    "\n",
    "Y_probs_ens = []\n",
    "Y_ens = []\n",
    "for x, y in ds_valid:\n",
    "    y_probs = predict_ensembles(ensembles, x)\n",
    "    Y_probs_ens.append(np.array(y_probs))\n",
    "    Y_ens.append(y)\n",
    "\n",
    "Y_probs_ens = np.concatenate(Y_probs_ens, axis=0)\n",
    "Y_ens = np.concatenate(Y_ens, axis=0)"
   ]
  },
  {
   "cell_type": "code",
   "execution_count": 12,
   "metadata": {},
   "outputs": [
    {
     "data": {
      "image/png": "[encoded data removed]",
      "text/plain": [
       "<Figure size 640x480 with 1 Axes>"
      ]
     },
     "metadata": {},
     "output_type": "display_data"
    }
   ],
   "source": [
    "_ = plot_multiclass_calibration_curve(Y_probs_ens, Y_ens, title=\"Ensembles reliability diagram\")"
   ]
  },
  {
   "cell_type": "code",
   "execution_count": 21,
   "metadata": {},
   "outputs": [],
   "source": [
    "def KL_div(P, Q):\n",
    "    return -np.sum(P * np.log(Q / P))"
   ]
  },
  {
   "cell_type": "code",
   "execution_count": 32,
   "metadata": {},
   "outputs": [],
   "source": [
    "P_class = np.sum(Y, axis=0)\n",
    "P_class = P_class / np.sum(P_class)"
   ]
  },
  {
   "cell_type": "code",
   "execution_count": 55,
   "metadata": {},
   "outputs": [],
   "source": [
    "P_mcd = P_class[np.argmax(Y, axis=1)]\n",
    "Q_mcd = np.diag(Y_probs @ Y.T)\n",
    "kl_mcd = KL_div(P_mcd, Q_mcd)"
   ]
  },
  {
   "cell_type": "code",
   "execution_count": 68,
   "metadata": {},
   "outputs": [],
   "source": [
    "P_mcd = P_class[np.argmax(Y, axis=1)]\n",
    "Q_class_mcd = np.eye(len(P_class))[np.argmax(Y_probs, axis=1)]\n",
    "Q_class_mcd2 = Q_class_mcd / np.sum(Q_class_mcd)\n",
    "Q_mcd = np.diag(Q_class_mcd @ Q_class_mcd2.T)\n",
    "kl_mcd = KL_div(P_mcd, Q_mcd)"
   ]
  },
  {
   "cell_type": "code",
   "execution_count": 69,
   "metadata": {},
   "outputs": [
    {
     "data": {
      "text/plain": [
       "np.float64(1277.5829178957079)"
      ]
     },
     "execution_count": 69,
     "metadata": {},
     "output_type": "execute_result"
    }
   ],
   "source": [
    "kl_mcd"
   ]
  },
  {
   "cell_type": "code",
   "execution_count": 57,
   "metadata": {},
   "outputs": [],
   "source": [
    "P_ens = P_class[np.argmax(Y_ens, axis=1)]\n",
    "Q_ens = np.diag(Y_probs_ens @ Y_ens.T)\n",
    "kl_ens = KL_div(P_ens, Q_ens)"
   ]
  },
  {
   "cell_type": "code",
   "execution_count": 58,
   "metadata": {},
   "outputs": [
    {
     "data": {
      "text/plain": [
       "np.float32(-668.49066)"
      ]
     },
     "execution_count": 58,
     "metadata": {},
     "output_type": "execute_result"
    }
   ],
   "source": [
    "kl_ens"
   ]
  },
  {
   "cell_type": "code",
   "execution_count": 70,
   "metadata": {},
   "outputs": [],
   "source": [
    "P_ens = P_class[np.argmax(Y_ens, axis=1)]\n",
    "Q_class_ens = np.eye(len(P_class))[np.argmax(Y_probs_ens, axis=1)]\n",
    "Q_class_ens2 = Q_class_ens / np.sum(Q_class_ens)\n",
    "Q_ens = np.diag(Q_class_ens @ Q_class_ens.T)\n",
    "kl_ens = KL_div(P_ens, Q_ens)"
   ]
  },
  {
   "cell_type": "code",
   "execution_count": 71,
   "metadata": {},
   "outputs": [
    {
     "data": {
      "text/plain": [
       "np.float64(-784.4307406531395)"
      ]
     },
     "execution_count": 71,
     "metadata": {},
     "output_type": "execute_result"
    }
   ],
   "source": [
    "kl_ens"
   ]
  },
  {
   "cell_type": "code",
   "execution_count": 65,
   "metadata": {},
   "outputs": [
    {
     "data": {
      "text/plain": [
       "np.float32(0.14920023)"
      ]
     },
     "execution_count": 65,
     "metadata": {},
     "output_type": "execute_result"
    }
   ],
   "source": [
    "np.std(Y_probs, axis=0).mean()"
   ]
  },
  {
   "cell_type": "code",
   "execution_count": 64,
   "metadata": {},
   "outputs": [
    {
     "data": {
      "text/plain": [
       "np.float32(0.15307908)"
      ]
     },
     "execution_count": 64,
     "metadata": {},
     "output_type": "execute_result"
    }
   ],
   "source": [
    "np.std(Y_probs_ens, axis=0).mean()"
   ]
  },
  {
   "cell_type": "code",
   "execution_count": 13,
   "metadata": {},
   "outputs": [
    {
     "data": {
      "text/plain": [
       "(6798, 30)"
      ]
     },
     "execution_count": 13,
     "metadata": {},
     "output_type": "execute_result"
    }
   ],
   "source": [
    "Y_ens.shape"
   ]
  },
  {
   "cell_type": "code",
   "execution_count": 14,
   "metadata": {},
   "outputs": [
    {
     "data": {
      "text/plain": [
       "(6798, 30)"
      ]
     },
     "execution_count": 14,
     "metadata": {},
     "output_type": "execute_result"
    }
   ],
   "source": [
    "Y.shape"
   ]
  },
  {
   "cell_type": "code",
   "execution_count": 20,
   "metadata": {},
   "outputs": [
    {
     "data": {
      "text/plain": [
       "array([0.03383348, 0.03854075, 0.02544866, 0.02500736, 0.02441895,\n",
       "       0.02383054, 0.03824654, 0.03383348, 0.03780524, 0.02353633,\n",
       "       0.03883495, 0.02780229, 0.03471609, 0.02897911, 0.03633422,\n",
       "       0.04118859, 0.03765814, 0.03839365, 0.03971756, 0.03824654,\n",
       "       0.03824654, 0.03648132, 0.03765814, 0.03618711, 0.03574581,\n",
       "       0.02588997, 0.03559871, 0.02441895, 0.03868785, 0.02471315],\n",
       "      dtype=float32)"
      ]
     },
     "execution_count": 20,
     "metadata": {},
     "output_type": "execute_result"
    }
   ],
   "source": [
    "class_counts = np.sum(Y, axis=0)\n",
    "P_class = class_counts / np.sum(class_counts)\n",
    "P_class"
   ]
  },
  {
   "cell_type": "code",
   "execution_count": 30,
   "metadata": {},
   "outputs": [
    {
     "name": "stdout",
     "output_type": "stream",
     "text": [
      "[0.03339217 0.04104148 0.02500736 ... 0.         0.         0.        ]\n"
     ]
    },
    {
     "name": "stderr",
     "output_type": "stream",
     "text": [
      "/tmp/ipykernel_1516/30291346.py:2: RuntimeWarning: divide by zero encountered in log\n",
      "  return -np.sum(P * np.log(Q / P))\n"
     ]
    }
   ],
   "source": [
    "Y_mcd = Y\n",
    "Y_probs_mcd = Y_probs\n",
    "P_mcd = P_class[np.argmax(Y_mcd, axis=1)]\n",
    "Q_class_mcd = np.eye(len(P_mcd))[np.argmax(Y_probs_mcd, axis=1)]\n",
    "Q_class_mcd = np.sum(Q_class_mcd, axis=0)\n",
    "Q_mcd = Q_class_mcd / np.sum(Q_class_mcd)\n",
    "print(Q_mcd)\n",
    "# Q_class_mcd2 = Q_class_mcd / np.sum(Q_class_mcd)\n",
    "# Q_mcd = np.diag(Q_class_mcd @ Q_class_mcd2.T)\n",
    "kl_mcd = KL_div(P_mcd, Q_mcd)"
   ]
  },
  {
   "cell_type": "code",
   "execution_count": 29,
   "metadata": {},
   "outputs": [
    {
     "data": {
      "text/plain": [
       "np.float64(inf)"
      ]
     },
     "execution_count": 29,
     "metadata": {},
     "output_type": "execute_result"
    }
   ],
   "source": [
    "kl_mcd"
   ]
  },
  {
   "cell_type": "code",
   "execution_count": 46,
   "metadata": {},
   "outputs": [],
   "source": [
    "Y_mcd = Y\n",
    "Y_probs_mcd = Y_probs\n",
    "P_mcd = P_class[np.argmax(Y_mcd, axis=1)]\n",
    "Q_class_mcd = np.eye(len(P_class))[np.argmax(Y_probs_mcd, axis=1)]\n",
    "Q_class_mcd = np.sum(Q_class_mcd, axis=0)\n",
    "Q_class_mcd = Q_class_mcd / np.sum(Q_class_mcd)\n",
    "Q_mcd = Q_class_mcd[np.argmax(Y_probs_mcd, axis=1)]\n",
    "kl_mcd = KL_div(P_mcd, Q_mcd)"
   ]
  },
  {
   "cell_type": "code",
   "execution_count": 47,
   "metadata": {},
   "outputs": [
    {
     "data": {
      "text/plain": [
       "np.float64(-0.6575496642577917)"
      ]
     },
     "execution_count": 47,
     "metadata": {},
     "output_type": "execute_result"
    }
   ],
   "source": [
    "kl_mcd"
   ]
  },
  {
   "cell_type": "code",
   "execution_count": 35,
   "metadata": {},
   "outputs": [
    {
     "data": {
      "text/plain": [
       "array([0., 0., 0., 0., 0., 0., 1., 0., 0., 0., 0., 0., 0., 0., 0., 0., 0.,\n",
       "       0., 0., 0., 0., 0., 0., 0., 0., 0., 0., 0., 0., 0.], dtype=float32)"
      ]
     },
     "execution_count": 35,
     "metadata": {},
     "output_type": "execute_result"
    }
   ],
   "source": [
    "Y_mcd[0]"
   ]
  },
  {
   "cell_type": "code",
   "execution_count": 72,
   "metadata": {},
   "outputs": [],
   "source": [
    "def probs_per_class(X: np.ndarray):\n",
    "    class_counts = np.sum(X, axis=0)\n",
    "    return class_counts / np.sum(class_counts)\n",
    "\n",
    "\n",
    "def get_kl_divergence(Y: np.ndarray, Y_probs: np.ndarray, class_num: int = 30):\n",
    "    P = probs_per_class(Y)\n",
    "    Y_pred_ohe = np.eye(class_num)[np.argmax(Y_probs, axis=1)]\n",
    "    Q = probs_per_class(Y_pred_ohe)\n",
    "\n",
    "    return KL_div(P, Q)"
   ]
  },
  {
   "cell_type": "code",
   "execution_count": 73,
   "metadata": {},
   "outputs": [
    {
     "data": {
      "text/plain": [
       "np.float64(0.002223486148293792)"
      ]
     },
     "execution_count": 73,
     "metadata": {},
     "output_type": "execute_result"
    }
   ],
   "source": [
    "get_kl_divergence(Y_mcd, Y_probs_mcd)"
   ]
  },
  {
   "cell_type": "code",
   "execution_count": 74,
   "metadata": {},
   "outputs": [
    {
     "data": {
      "text/plain": [
       "np.float64(0.004140370248341758)"
      ]
     },
     "execution_count": 74,
     "metadata": {},
     "output_type": "execute_result"
    }
   ],
   "source": [
    "get_kl_divergence(Y_ens, Y_probs_ens)"
   ]
  },
  {
   "cell_type": "markdown",
   "metadata": {},
   "source": [
    "Mean diff between models cert and acc"
   ]
  },
  {
   "cell_type": "code",
   "execution_count": 68,
   "metadata": {},
   "outputs": [
    {
     "data": {
      "text/plain": [
       "np.float64(0.002223486148293792)"
      ]
     },
     "execution_count": 68,
     "metadata": {},
     "output_type": "execute_result"
    }
   ],
   "source": [
    "P_probs_per_class_mcd = probs_per_class(Y_mcd)\n",
    "\n",
    "Y_pred_ohe_mcd = np.eye(len(P_class))[np.argmax(Y_probs_mcd, axis=1)]\n",
    "Q_probs_per_class_mcd = probs_per_class(Y_pred_ohe_mcd)\n",
    "\n",
    "KL_div(P_probs_per_class_mcd, Q_probs_per_class_mcd)"
   ]
  },
  {
   "cell_type": "code",
   "execution_count": 70,
   "metadata": {},
   "outputs": [
    {
     "data": {
      "text/plain": [
       "(np.float32(1.0), np.float64(1.0))"
      ]
     },
     "execution_count": 70,
     "metadata": {},
     "output_type": "execute_result"
    }
   ],
   "source": [
    "np.sum(P_probs_per_class_mcd), np.sum(Q_probs_per_class_mcd)"
   ]
  },
  {
   "cell_type": "code",
   "execution_count": null,
   "metadata": {},
   "outputs": [],
   "source": [
    "P_probs_per_class_ens = probs_per_class(Y_ens)\n",
    "\n",
    "Y_pred_ohe_mcd = np.eye(len(P_class))[np.argmax(Y_probs_mcd, axis=1)]\n",
    "Q_probs_per_class_mcd = probs_per_class(Y_pred_ohe_mcd)\n",
    "\n",
    "KL_div(P_probs_per_class_mcd, Q_probs_per_class_mcd)"
   ]
  },
  {
   "cell_type": "code",
   "execution_count": 67,
   "metadata": {},
   "outputs": [
    {
     "data": {
      "text/plain": [
       "array([0.03339217, 0.04104148, 0.02500736, 0.02662548, 0.02221242,\n",
       "       0.02221242, 0.03795234, 0.03368638, 0.03339217, 0.02280082,\n",
       "       0.03648132, 0.02765519, 0.03147985, 0.03045013, 0.03957046,\n",
       "       0.04354222, 0.03795234, 0.03677552, 0.03456899, 0.03795234,\n",
       "       0.04177699, 0.04177699, 0.03780524, 0.0354516 , 0.03883495,\n",
       "       0.02559576, 0.03751103, 0.02368344, 0.03957046, 0.02324213])"
      ]
     },
     "execution_count": 67,
     "metadata": {},
     "output_type": "execute_result"
    }
   ],
   "source": [
    "Q_probs_per_class_mcd"
   ]
  },
  {
   "cell_type": "code",
   "execution_count": 52,
   "metadata": {},
   "outputs": [
    {
     "data": {
      "text/plain": [
       "array([ 6,  6,  1, ..., 17,  6,  9])"
      ]
     },
     "execution_count": 52,
     "metadata": {},
     "output_type": "execute_result"
    }
   ],
   "source": [
    "np.argmax(Y_probs_mcd, axis=1)"
   ]
  },
  {
   "cell_type": "code",
   "execution_count": 53,
   "metadata": {},
   "outputs": [
    {
     "data": {
      "text/plain": [
       "array([[0., 0., 0., ..., 0., 0., 0.],\n",
       "       [0., 0., 0., ..., 0., 0., 0.],\n",
       "       [0., 1., 0., ..., 0., 0., 0.],\n",
       "       ...,\n",
       "       [0., 0., 0., ..., 0., 0., 0.],\n",
       "       [0., 0., 0., ..., 0., 0., 0.],\n",
       "       [0., 0., 0., ..., 0., 0., 0.]], dtype=float32)"
      ]
     },
     "execution_count": 53,
     "metadata": {},
     "output_type": "execute_result"
    }
   ],
   "source": [
    "Y_mcd"
   ]
  },
  {
   "cell_type": "code",
   "execution_count": 60,
   "metadata": {},
   "outputs": [
    {
     "data": {
      "text/plain": [
       "(6798,)"
      ]
     },
     "execution_count": 60,
     "metadata": {},
     "output_type": "execute_result"
    }
   ],
   "source": [
    "np.diag(Y_mcd @ Y_probs_mcd.T).shape"
   ]
  },
  {
   "cell_type": "code",
   "execution_count": 62,
   "metadata": {},
   "outputs": [
    {
     "data": {
      "text/plain": [
       "(30,)"
      ]
     },
     "execution_count": 62,
     "metadata": {},
     "output_type": "execute_result"
    }
   ],
   "source": [
    "P_probs_per_class_mcd.shape"
   ]
  },
  {
   "cell_type": "code",
   "execution_count": null,
   "metadata": {},
   "outputs": [],
   "source": []
  }
 ],
 "metadata": {
  "kernelspec": {
   "display_name": ".venv",
   "language": "python",
   "name": "python3"
  },
  "language_info": {
   "codemirror_mode": {
    "name": "ipython",
    "version": 3
   },
   "file_extension": ".py",
   "mimetype": "text/x-python",
   "name": "python",
   "nbconvert_exporter": "python",
   "pygments_lexer": "ipython3",
   "version": "3.12.3"
  }
 },
 "nbformat": 4,
 "nbformat_minor": 2
}
